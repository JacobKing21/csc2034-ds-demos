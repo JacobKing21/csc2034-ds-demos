{
 "cells": [
  {
   "cell_type": "markdown",
   "metadata": {},
   "source": [
    "# In this notebook:\n",
    "\n",
    "## Univariate regression\n",
    "\n",
    "### linear dataset with noise --> linear regression\n",
    "\n",
    "### quadratic dataset with noise --> polynomial regression\n",
    "\n",
    "## extension to multivariate regression:  >1 input features\n",
    "\n",
    "## Evaluating model performance:\n",
    "- standard metrics: RMSE, MSE, MAE, R^2 score\n",
    "- training/test set split and generalisation error\n",
    "\n",
    "## the overfitting problem: how to spot and deal with it"
   ]
  },
  {
   "cell_type": "code",
   "execution_count": 79,
   "metadata": {},
   "outputs": [],
   "source": [
    "import numpy as np\n",
    "import matplotlib.pyplot as plt\n",
    "\n",
    "from sklearn import linear_model\n",
    "from sklearn.metrics import mean_squared_error\n",
    "from sklearn.metrics import mean_absolute_error\n",
    "from sklearn.metrics import r2_score\n",
    "from sklearn.datasets import make_regression, make_sparse_uncorrelated"
   ]
  },
  {
   "cell_type": "markdown",
   "metadata": {},
   "source": [
    "### generating a univariate dataset for regression with a noise factor (0 mean, 1 variance)"
   ]
  },
  {
   "cell_type": "code",
   "execution_count": 80,
   "metadata": {},
   "outputs": [],
   "source": [
    "# 30 instances\n",
    "m = 30\n",
    "\n",
    "# coeff and intercept\n",
    "coeff_true = 2\n",
    "intercept_true = 0.5\n",
    "\n",
    "X = np.linspace(-1,1,m)\n",
    "\n",
    "rand_noise_mu = 0\n",
    "rand_noise_std = 0.1\n",
    "\n",
    "rand_noise = np.random.normal(rand_noise_mu, rand_noise_std, m)\n",
    "Y_true = intercept_true + coeff_true * X + rand_noise"
   ]
  },
  {
   "cell_type": "code",
   "execution_count": 81,
   "metadata": {},
   "outputs": [
    {
     "name": "stdout",
     "output_type": "stream",
     "text": [
      "(30, 1)\n"
     ]
    }
   ],
   "source": [
    "X = np.reshape(X, (-1, 1))  \n",
    "print(X.shape)\n",
    "\n",
    "regr = linear_model.LinearRegression()\n",
    "regr.fit(X, Y_true)\n",
    "Y_pred = regr.predict(X)"
   ]
  },
  {
   "cell_type": "code",
   "execution_count": 82,
   "metadata": {
    "scrolled": true
   },
   "outputs": [
    {
     "name": "stdout",
     "output_type": "stream",
     "text": [
      "intercept: predicted 0.465821; true 0.500000\n",
      "coeff: predicted: 1.999365; true 2.000000\n"
     ]
    }
   ],
   "source": [
    "intercept = regr.intercept_\n",
    "coeff = regr.coef_\n",
    "print('intercept: predicted %f; true %f'% (intercept, intercept_true))\n",
    "print('coeff: predicted: %f; true %f' % (coeff, coeff_true))"
   ]
  },
  {
   "cell_type": "markdown",
   "metadata": {},
   "source": [
    "### evaluating standard metrics for regression model performance:"
   ]
  },
  {
   "cell_type": "code",
   "execution_count": 83,
   "metadata": {
    "scrolled": true
   },
   "outputs": [
    {
     "name": "stdout",
     "output_type": "stream",
     "text": [
      "mean squared error: 0.010346\n",
      "R^2 = 0.992789\n",
      "range of response variable Y: [-1.605733,2.637995]\n"
     ]
    }
   ],
   "source": [
    "print(\"mean squared error: %f\" % mean_squared_error(Y_true, Y_pred))\n",
    "print(\"R^2 = %f\" % regr.score(X, Y_true))\n",
    "print('range of response variable Y: [%f,%f]' % (Y_true.min(), Y_true.max()))\n",
    "\n"
   ]
  },
  {
   "cell_type": "markdown",
   "metadata": {},
   "source": [
    "### visual rendering of data and the linear fit"
   ]
  },
  {
   "cell_type": "code",
   "execution_count": 84,
   "metadata": {},
   "outputs": [
    {
     "data": {
      "image/png": "[encoded data removed]",
      "text/plain": [
       "<Figure size 432x288 with 1 Axes>"
      ]
     },
     "metadata": {
      "needs_background": "light"
     },
     "output_type": "display_data"
    }
   ],
   "source": [
    "plt.scatter(X, Y_true)\n",
    "plt.plot(X, Y_pred)\n",
    "plt.show()"
   ]
  },
  {
   "cell_type": "code",
   "execution_count": null,
   "metadata": {},
   "outputs": [],
   "source": []
  },
  {
   "cell_type": "markdown",
   "metadata": {},
   "source": [
    "## fitting a nonlinear univariate dataset to a linear model"
   ]
  },
  {
   "cell_type": "code",
   "execution_count": 85,
   "metadata": {},
   "outputs": [],
   "source": [
    "m= 100\n",
    "X = 6 * np.random.rand(m,1) - 3\n",
    "\n",
    "coeff1 = 0.5\n",
    "coeff2 = 1\n",
    "\n",
    "Y_true = coeff1 * X**2 + coeff2 * X + 2 + np.random.randn(m,1)\n",
    "X = np.reshape(X, (-1, 1))"
   ]
  },
  {
   "cell_type": "code",
   "execution_count": 86,
   "metadata": {
    "scrolled": true
   },
   "outputs": [
    {
     "data": {
      "text/plain": [
       "<matplotlib.collections.PathCollection at 0x7ffeacbce400>"
      ]
     },
     "execution_count": 86,
     "metadata": {},
     "output_type": "execute_result"
    },
    {
     "data": {
      "image/png": "[encoded data removed]",
      "text/plain": [
       "<Figure size 432x288 with 1 Axes>"
      ]
     },
     "metadata": {
      "needs_background": "light"
     },
     "output_type": "display_data"
    }
   ],
   "source": [
    "plt.scatter(X, Y_true)"
   ]
  },
  {
   "cell_type": "code",
   "execution_count": 87,
   "metadata": {},
   "outputs": [
    {
     "name": "stdout",
     "output_type": "stream",
     "text": [
      "mean squared error: 3.065187\n",
      "R^2 = 0.609818\n",
      "range of response variable Y: [-0.567157,9.882579]\n"
     ]
    }
   ],
   "source": [
    "regr = linear_model.LinearRegression()\n",
    "regr.fit(X, Y_true)\n",
    "Y_pred = regr.predict(X)\n",
    "\n",
    "print(\"mean squared error: %f\" % mean_squared_error(Y_true, Y_pred))\n",
    "print(\"R^2 = %f\" % regr.score(X, Y_true))\n",
    "print('range of response variable Y: [%f,%f]' % (Y_true.min(), Y_true.max()))"
   ]
  },
  {
   "cell_type": "markdown",
   "metadata": {},
   "source": [
    "the linear model does not seem to fit the data at all!"
   ]
  },
  {
   "cell_type": "code",
   "execution_count": 88,
   "metadata": {},
   "outputs": [
    {
     "data": {
      "image/png": "[encoded data removed]",
      "text/plain": [
       "<Figure size 432x288 with 1 Axes>"
      ]
     },
     "metadata": {
      "needs_background": "light"
     },
     "output_type": "display_data"
    }
   ],
   "source": [
    "plt.scatter(X, Y_true)\n",
    "plt.plot(X, Y_pred)\n",
    "plt.show()"
   ]
  },
  {
   "cell_type": "markdown",
   "metadata": {},
   "source": [
    "let use try a polynomial regression instead. \n",
    "\n",
    "we accomplish this in 2 steps:\n",
    "- transform the X features into X^2\n",
    "- fit a linear model to the transformed features"
   ]
  },
  {
   "cell_type": "code",
   "execution_count": 89,
   "metadata": {},
   "outputs": [],
   "source": [
    "from sklearn.preprocessing import PolynomialFeatures\n",
    "poly_features = PolynomialFeatures(degree=2, include_bias=False)\n",
    "X_poly = poly_features.fit_transform(X)"
   ]
  },
  {
   "cell_type": "code",
   "execution_count": 90,
   "metadata": {},
   "outputs": [
    {
     "name": "stdout",
     "output_type": "stream",
     "text": [
      "mean squared error: 0.957316\n",
      "R^2 = 0.878139\n",
      "range of response variable Y: [-0.567157,9.882579]\n"
     ]
    }
   ],
   "source": [
    "regr = linear_model.LinearRegression()\n",
    "regr.fit(X_poly, Y_true)\n",
    "Y_pred = regr.predict(X_poly)\n",
    "\n",
    "print(\"mean squared error: %f\" % mean_squared_error(Y_true, Y_pred))\n",
    "print(\"R^2 = %f\" % regr.score(X_poly, Y_true))\n",
    "print('range of response variable Y: [%f,%f]' % (Y_true.min(), Y_true.max()))"
   ]
  },
  {
   "cell_type": "code",
   "execution_count": 91,
   "metadata": {},
   "outputs": [
    {
     "name": "stdout",
     "output_type": "stream",
     "text": [
      "intercept: \n",
      " [1.99045308]\n",
      "coeff: \n",
      " [[0.99571431 0.49612542]]\n"
     ]
    },
    {
     "data": {
      "image/png": "[encoded data removed]",
      "text/plain": [
       "<Figure size 432x288 with 1 Axes>"
      ]
     },
     "metadata": {
      "needs_background": "light"
     },
     "output_type": "display_data"
    }
   ],
   "source": [
    "intercept = regr.intercept_\n",
    "coeff = regr.coef_\n",
    "print('intercept: \\n', intercept)\n",
    "print('coeff: \\n', coeff)\n",
    "\n",
    "plt.scatter(X, Y_true)\n",
    "plt.plot(X,Y_pred, \"bo\")\n",
    "plt.show()"
   ]
  },
  {
   "cell_type": "code",
   "execution_count": 92,
   "metadata": {
    "scrolled": true
   },
   "outputs": [
    {
     "name": "stdout",
     "output_type": "stream",
     "text": [
      "mean squared error: 0.957316\n",
      "R^2 = 0.878139\n",
      "range of response variable Y: [-0.567157,9.882579]\n"
     ]
    }
   ],
   "source": [
    "regr = linear_model.LinearRegression()\n",
    "regr.fit(X_poly, Y_true)\n",
    "Y_pred = regr.predict(X_poly)\n",
    "\n",
    "print(\"mean squared error: %f\" % mean_squared_error(Y_true, Y_pred))\n",
    "print(\"R^2 = %f\" % regr.score(X_poly, Y_true))\n",
    "print('range of response variable Y: [%f,%f]' % (Y_true.min(), Y_true.max()))"
   ]
  },
  {
   "cell_type": "code",
   "execution_count": null,
   "metadata": {},
   "outputs": [],
   "source": []
  },
  {
   "cell_type": "code",
   "execution_count": null,
   "metadata": {},
   "outputs": [],
   "source": []
  },
  {
   "cell_type": "code",
   "execution_count": null,
   "metadata": {},
   "outputs": [],
   "source": []
  },
  {
   "cell_type": "markdown",
   "metadata": {},
   "source": [
    "## we can also generate a synthetic dataset using `sklearn.datasets.make_regression`\n",
    "\n",
    "this is convenient to illustrate _overfitting_\n",
    "\n",
    "here we can control the amount of noise. this is the standard deviation of the gaussian noise applied to the output.\n",
    "\n",
    "### note that we can extend to multivariate regression simply by changing the number of features"
   ]
  },
  {
   "cell_type": "code",
   "execution_count": 93,
   "metadata": {},
   "outputs": [],
   "source": [
    "n_features= 10\n",
    "# X, Y_true, coeff_true = make_regression(n_samples=100, n_features=n_features, noise=15.0, random_state=1, coef=True)\n",
    "\n",
    "# Only the first 4 features are informative. The remaining features are useless.\n",
    "X, Y_true = make_sparse_uncorrelated(n_samples=100, n_features=100, random_state=True)\n",
    "\n"
   ]
  },
  {
   "cell_type": "code",
   "execution_count": 94,
   "metadata": {},
   "outputs": [
    {
     "name": "stdout",
     "output_type": "stream",
     "text": [
      "mean squared error: 0.000000\n",
      "R^2 = 1.000000\n",
      "range of response variable Y: [-8.021810,8.181055]\n"
     ]
    }
   ],
   "source": [
    "regr = linear_model.LinearRegression()\n",
    "regr.fit(X, Y_true)\n",
    "Y_pred = regr.predict(X)\n",
    "\n",
    "intercept = regr.intercept_\n",
    "coeff = regr.coef_\n",
    "\n",
    "if n_features == 1:\n",
    "    print('coeff: predicted: %f; true %f' % (coeff, coeff_true))\n",
    "\n",
    "print(\"mean squared error: %f\" % mean_squared_error(Y_true, Y_pred))\n",
    "print(\"R^2 = %f\" % regr.score(X, Y_true))\n",
    "print('range of response variable Y: [%f,%f]' % (Y_true.min(), Y_true.max()))\n"
   ]
  },
  {
   "cell_type": "code",
   "execution_count": 95,
   "metadata": {
    "scrolled": true
   },
   "outputs": [],
   "source": [
    "if n_features == 1:\n",
    "    plt.scatter(X, Y_true)\n",
    "    plt.plot(X, Y_pred)\n",
    "    plt.show()"
   ]
  },
  {
   "cell_type": "markdown",
   "metadata": {},
   "source": [
    "## overfitting: \n",
    "\n",
    "### how do we know the model predicts accurately on unseen instances?"
   ]
  },
  {
   "cell_type": "code",
   "execution_count": 96,
   "metadata": {},
   "outputs": [],
   "source": [
    "from sklearn.model_selection import train_test_split\n",
    "\n",
    "XTrain, XTest, YTrain, YTest = train_test_split(X, Y_true, test_size = 0.3, random_state = 10)"
   ]
  },
  {
   "cell_type": "code",
   "execution_count": 97,
   "metadata": {},
   "outputs": [],
   "source": [
    "regr = linear_model.LinearRegression()\n",
    "regr.fit(XTrain, YTrain)\n",
    "intercept = regr.intercept_\n",
    "coeff = regr.coef_\n"
   ]
  },
  {
   "cell_type": "markdown",
   "metadata": {},
   "source": [
    "### note that we are now predicting on the Test set not on the training set"
   ]
  },
  {
   "cell_type": "code",
   "execution_count": 98,
   "metadata": {},
   "outputs": [
    {
     "name": "stdout",
     "output_type": "stream",
     "text": [
      "mean squared error: 4.766762\n",
      "R^2 = 0.533206\n",
      "range of response variable Y: [-5.968151,6.317723]\n"
     ]
    }
   ],
   "source": [
    "Y_pred = regr.predict(XTest)\n",
    "\n",
    "if n_features == 1:\n",
    "    print('coeff: predicted: %f; true %f' % (coeff, coeff_true))\n",
    "\n",
    "print(\"mean squared error: %f\" % mean_squared_error(YTest, Y_pred))\n",
    "print(\"R^2 = %f\" % regr.score(XTest, YTest))\n",
    "print('range of response variable Y: [%f,%f]' % (YTest.min(), YTest.max()))"
   ]
  },
  {
   "cell_type": "markdown",
   "metadata": {},
   "source": [
    "### why is this happening?\n",
    "\n",
    "- perhaps the dataset is not linear (see example above)\n",
    "- too few instances in the training set (go back and increase the size of the training set and observe the effect)\n",
    "- model learnt from many irrelevant variables"
   ]
  },
  {
   "cell_type": "markdown",
   "metadata": {},
   "source": [
    "## Mitigating overfitting through _regularisation_"
   ]
  },
  {
   "cell_type": "markdown",
   "metadata": {},
   "source": [
    "### 1. Ridge regression"
   ]
  },
  {
   "cell_type": "code",
   "execution_count": 99,
   "metadata": {},
   "outputs": [
    {
     "data": {
      "text/plain": [
       "Ridge(alpha=0.5)"
      ]
     },
     "execution_count": 99,
     "metadata": {},
     "output_type": "execute_result"
    }
   ],
   "source": [
    "from sklearn.linear_model import Ridge\n",
    "\n",
    "regr = Ridge(alpha=0.5)\n",
    "regr.fit(XTrain, YTrain)"
   ]
  },
  {
   "cell_type": "code",
   "execution_count": 100,
   "metadata": {},
   "outputs": [
    {
     "name": "stdout",
     "output_type": "stream",
     "text": [
      "mean squared error: 4.494295\n",
      "R^2 = 0.559887\n",
      "range of response variable Y: [-5.968151,6.317723]\n"
     ]
    }
   ],
   "source": [
    "Y_pred = regr.predict(XTest)\n",
    "\n",
    "if n_features == 1:\n",
    "    print('coeff: predicted: %f; true %f' % (coeff, coeff_true))\n",
    "\n",
    "print(\"mean squared error: %f\" % mean_squared_error(YTest, Y_pred))\n",
    "print(\"R^2 = %f\" % regr.score(XTest, YTest))\n",
    "print('range of response variable Y: [%f,%f]' % (YTest.min(), YTest.max()))"
   ]
  },
  {
   "cell_type": "markdown",
   "metadata": {},
   "source": [
    "### 2. Lasso regression"
   ]
  },
  {
   "cell_type": "code",
   "execution_count": 101,
   "metadata": {},
   "outputs": [
    {
     "data": {
      "text/plain": [
       "Lasso(alpha=0.1)"
      ]
     },
     "execution_count": 101,
     "metadata": {},
     "output_type": "execute_result"
    }
   ],
   "source": [
    "regr = linear_model.Lasso(alpha=0.1)\n",
    "regr.fit(XTrain, YTrain)"
   ]
  },
  {
   "cell_type": "code",
   "execution_count": 102,
   "metadata": {},
   "outputs": [
    {
     "name": "stdout",
     "output_type": "stream",
     "text": [
      "mean squared error: 0.598818\n",
      "R^2 = 0.941360\n",
      "range of response variable Y: [-5.968151,6.317723]\n"
     ]
    }
   ],
   "source": [
    "Y_pred = regr.predict(XTest)\n",
    "\n",
    "if n_features == 1:\n",
    "    print('coeff: predicted: %f; true %f' % (coeff, coeff_true))\n",
    "\n",
    "print(\"mean squared error: %f\" % mean_squared_error(YTest, Y_pred))\n",
    "print(\"R^2 = %f\" % regr.score(XTest, YTest))\n",
    "print('range of response variable Y: [%f,%f]' % (YTest.min(), YTest.max()))"
   ]
  },
  {
   "cell_type": "markdown",
   "metadata": {},
   "source": [
    "### 3. ElasticNet"
   ]
  },
  {
   "cell_type": "code",
   "execution_count": 103,
   "metadata": {},
   "outputs": [
    {
     "data": {
      "text/plain": [
       "ElasticNet()"
      ]
     },
     "execution_count": 103,
     "metadata": {},
     "output_type": "execute_result"
    }
   ],
   "source": [
    "from sklearn.linear_model import ElasticNet\n",
    "\n",
    "regr = ElasticNet(alpha=1.0)\n",
    "regr.fit(XTrain, YTrain)\n"
   ]
  },
  {
   "cell_type": "code",
   "execution_count": 104,
   "metadata": {},
   "outputs": [
    {
     "name": "stdout",
     "output_type": "stream",
     "text": [
      "mean squared error: 3.480659\n",
      "R^2 = 0.659150\n",
      "range of response variable Y: [-5.968151,6.317723]\n"
     ]
    }
   ],
   "source": [
    "Y_pred = regr.predict(XTest)\n",
    "\n",
    "if n_features == 1:\n",
    "    print('coeff: predicted: %f; true %f' % (coeff, coeff_true))\n",
    "\n",
    "print(\"mean squared error: %f\" % mean_squared_error(YTest, Y_pred))\n",
    "print(\"R^2 = %f\" % regr.score(XTest, YTest))\n",
    "print('range of response variable Y: [%f,%f]' % (YTest.min(), YTest.max()))"
   ]
  },
  {
   "cell_type": "code",
   "execution_count": null,
   "metadata": {},
   "outputs": [],
   "source": []
  }
 ],
 "metadata": {
  "kernelspec": {
   "display_name": "Python 3",
   "language": "python",
   "name": "python3"
  },
  "language_info": {
   "codemirror_mode": {
    "name": "ipython",
    "version": 3
   },
   "file_extension": ".py",
   "mimetype": "text/x-python",
   "name": "python",
   "nbconvert_exporter": "python",
   "pygments_lexer": "ipython3",
   "version": "3.8.3"
  }
 },
 "nbformat": 4,
 "nbformat_minor": 4
}
